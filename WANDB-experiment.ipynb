{
 "cells": [
  {
   "cell_type": "code",
   "execution_count": null,
   "metadata": {
    "colab": {
     "base_uri": "https://localhost:8080/",
     "height": 1000
    },
    "colab_type": "code",
    "executionInfo": {
     "elapsed": 18336,
     "status": "ok",
     "timestamp": 1597742055473,
     "user": {
      "displayName": "Andi mimo",
      "photoUrl": "",
      "userId": "02225183644452401867"
     },
     "user_tz": -120
    },
    "id": "WgJKOzqxRMgI",
    "outputId": "78f4237c-24ee-4b38-f7c6-5b2633674cd1"
   },
   "outputs": [],
   "source": [
    "!pip install wandb"
   ]
  },
  {
   "cell_type": "code",
   "execution_count": null,
   "metadata": {
    "colab": {
     "base_uri": "https://localhost:8080/",
     "height": 182
    },
    "colab_type": "code",
    "executionInfo": {
     "elapsed": 49490,
     "status": "ok",
     "timestamp": 1597742103807,
     "user": {
      "displayName": "Andi mimo",
      "photoUrl": "",
      "userId": "02225183644452401867"
     },
     "user_tz": -120
    },
    "id": "ayMx2WQkJ0Fc",
    "outputId": "c2a2385e-0aa0-4526-cbd9-9bcef9e1fc0f"
   },
   "outputs": [],
   "source": [
    "!git clone http://github.com/fugohan/bacalc\n",
    "import os\n",
    "os.chdir('bacalc')\n",
    "!wandb login d4dd581c6b8708a9029489333664fde8d1fd27d3\n",
    "# import os\n",
    "# from google.colab import drive\n",
    "# drive.mount('/content/drive')\n",
    "# os.chdir(\"drive/My Drive/Colab Notebooks\")\n",
    "# os.getcwd()"
   ]
  },
  {
   "cell_type": "markdown",
   "metadata": {
    "colab": {
     "base_uri": "https://localhost:8080/",
     "height": 1000
    },
    "colab_type": "code",
    "id": "CXIMHb8-FwwK",
    "outputId": "226fd8f0-ff75-4ef4-e7aa-5c8f9accf848"
   },
   "source": [
    "## Training mit Sequenzlänge 1"
   ]
  },
  {
   "cell_type": "code",
   "execution_count": null,
   "metadata": {
    "colab": {},
    "colab_type": "code",
    "id": "p9OHOFu7amXI"
   },
   "outputs": [],
   "source": [
    "# Simple RNN\n",
    "#!wandb agent bac2018/experiment0-test3/9baenfzk \n",
    "# LSTM \n",
    "# !wandb agent bac2018/experiment0-test3/s1omhq30\n",
    "#GRU\n",
    "# !wandb agent bac2018/experiment0-test3/a91x63k4\n"
   ]
  },
  {
   "cell_type": "markdown",
   "metadata": {
    "colab": {},
    "colab_type": "code",
    "id": "YPP0nuGabGa9"
   },
   "source": [
    "## Training mit Sequenzlänge 50"
   ]
  },
  {
   "cell_type": "code",
   "execution_count": null,
   "metadata": {
    "colab": {},
    "colab_type": "code",
    "id": "lXPVkiqnauwm"
   },
   "outputs": [],
   "source": [
    "# Simple RNN\n",
    "#!wandb agent bac2018/experiment/pclpr428 \n",
    "# LSTM \n",
    "# !wandb agent bac2018/experiment/qbunfsjr\n",
    "#GRU\n",
    "# !wandb agent bac2018/experiment/q5zkku6r\n"
   ]
  },
  {
   "cell_type": "markdown",
   "metadata": {
    "colab": {},
    "colab_type": "code",
    "id": "BsZ1bPRHcD_G"
   },
   "source": [
    "## Training mit Sequenzlänge 100"
   ]
  },
  {
   "cell_type": "code",
   "execution_count": null,
   "metadata": {
    "colab": {},
    "colab_type": "code",
    "id": "Zh6GcAW5bXcq"
   },
   "outputs": [],
   "source": [
    "# Simple RNN\n",
    "#!wandb agent bac2018/experiment0-test3/9baenfzk \n",
    "# LSTM \n",
    "# !wandb agent bac2018/experiment0-test3/s1omhq30\n",
    "#GRU\n",
    "# !wandb agent bac2018/experiment0-test3/a91x63k4\n"
   ]
  },
  {
   "cell_type": "markdown",
   "metadata": {
    "colab": {},
    "colab_type": "code",
    "id": "tbVEvm2xcq7w"
   },
   "source": [
    "## Training mit Sequenzlänge 200"
   ]
  },
  {
   "cell_type": "code",
   "execution_count": null,
   "metadata": {
    "colab": {},
    "colab_type": "code",
    "id": "Og9ehWp2naa4"
   },
   "outputs": [],
   "source": [
    "# Simple RNN\n",
    "\n",
    "# LSTM \n",
    "\n",
    "#GRU\n",
    "\n"
   ]
  },
  {
   "cell_type": "code",
   "execution_count": null,
   "metadata": {
    "colab": {},
    "colab_type": "code",
    "id": "jEczY6ijrC75"
   },
   "outputs": [],
   "source": []
  },
  {
   "cell_type": "markdown",
   "metadata": {
    "colab": {
     "base_uri": "https://localhost:8080/",
     "height": 1000
    },
    "colab_type": "code",
    "executionInfo": {
     "elapsed": 102253,
     "status": "ok",
     "timestamp": 1597328486631,
     "user": {
      "displayName": "Andi mimo",
      "photoUrl": "",
      "userId": "02225183644452401867"
     },
     "user_tz": -120
    },
    "id": "hu2P-YoqsQZE",
    "outputId": "e04826b9-d593-4c73-cde3-ff91ff6e6b7c"
   },
   "source": [
    "Testmetrics|values\n",
    "---|---\n",
    "neurons |1 - 500\n",
    "batch_size | 64 - 2048\n",
    "epoch | 1000\n"
   ]
  },
  {
   "cell_type": "code",
   "execution_count": null,
   "metadata": {
    "colab": {
     "base_uri": "https://localhost:8080/",
     "height": 1000
    },
    "colab_type": "code",
    "executionInfo": {
     "elapsed": 27090825,
     "status": "ok",
     "timestamp": 1597359992854,
     "user": {
      "displayName": "Andi mimo",
      "photoUrl": "",
      "userId": "02225183644452401867"
     },
     "user_tz": -120
    },
    "id": "qlhocPlmMp0Q",
    "outputId": "3a8913b2-5db8-44e8-de55-c0b1c578ccbb"
   },
   "outputs": [],
   "source": []
  }
 ],
 "metadata": {
  "colab": {
   "authorship_tag": "ABX9TyPk17ptfXb2CH8cf2nNLu21",
   "name": "WANDB-experiment",
   "provenance": []
  },
  "kernelspec": {
   "display_name": "Python 3",
   "language": "python",
   "name": "python3"
  },
  "language_info": {
   "codemirror_mode": {
    "name": "ipython",
    "version": 3
   },
   "file_extension": ".py",
   "mimetype": "text/x-python",
   "name": "python",
   "nbconvert_exporter": "python",
   "pygments_lexer": "ipython3",
   "version": "3.6.9"
  }
 },
 "nbformat": 4,
 "nbformat_minor": 1
}
